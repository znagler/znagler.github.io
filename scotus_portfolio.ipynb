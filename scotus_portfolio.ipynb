{
 "cells": [
  {
   "cell_type": "markdown",
   "metadata": {},
   "source": [
    "# Supreme Court Oral Argument Analysis\n",
    "#### The aim of this notebook is to use NLP and Machine learning strategies to see if one can predict how a Supreme Court Justice will vote based on oral arguments, which take place months before a decision.  Justices speak during two distinct sections in a given case– one, while the Petitioner (P) is presenting, and two, while the respondent (R) is presenting.  The theory behind the analysis is that Justices speak differently while each side is presenting, because they actually already may know how they will vote, and the language they use in questioning may show such an indication. \n",
    "\n",
    "Some notes:\n",
    "1. This notebook is just a small display of research at the Columbia Law School Programming Lab\n",
    "2. This uses traditional Machine Learning algorithms (Logistic Regression, Naive Bayes, SVMs) and doesn't use deep learning.  It would be interesting to see how LSTMs would perform.\n",
    "3. This notebook does not use word encodings such as Word2Vec.  Encodings would almost certainly help the predictive performance.\n",
    "3. The dataset contains 215760 utterances from 1128 different cases, before data cleaning (which deletes some bad data).\n",
    "\n",
    "Notebook author: Zack Nagler"
   ]
  },
  {
   "cell_type": "code",
   "execution_count": 2,
   "metadata": {
    "collapsed": false
   },
   "outputs": [],
   "source": [
    "import pandas as pd\n",
    "import numpy as np\n",
    "from sklearn.linear_model import LinearRegression\n",
    "from sklearn.linear_model import LogisticRegression\n",
    "from sklearn.cross_validation import train_test_split\n",
    "from sklearn import metrics\n",
    "from sklearn.preprocessing import LabelEncoder\n",
    "from sklearn.ensemble import RandomForestClassifier\n",
    "from sklearn.cross_validation import cross_val_score\n",
    "from sklearn.neighbors import KNeighborsClassifier\n",
    "from sklearn import grid_search\n",
    "from sklearn.grid_search import GridSearchCV\n",
    "from sklearn.dummy import DummyClassifier\n",
    "from sklearn.metrics import accuracy_score\n",
    "import sklearn\n",
    "import statsmodels.formula.api as smf\n",
    "from textblob import TextBlob\n",
    "from __future__ import division\n",
    "\n",
    "#viz\n",
    "import matplotlib\n",
    "import seaborn as sns\n",
    "from matplotlib import pyplot as plt\n",
    "%matplotlib inline\n",
    "\n",
    "sns.set(color_codes=True)\n",
    "\n",
    "#example\n",
    "from sklearn.datasets import fetch_20newsgroups\n",
    "from sklearn.naive_bayes import MultinomialNB\n",
    "from sklearn.pipeline import Pipeline\n",
    "from sklearn.feature_extraction.text import CountVectorizer\n",
    "from sklearn.feature_extraction.text import TfidfTransformer\n",
    "from sklearn.feature_extraction.text import TfidfVectorizer\n",
    "from sklearn.datasets import fetch_20newsgroups\n",
    "\n",
    "from sklearn.grid_search import GridSearchCV\n",
    "from sklearn import metrics\n",
    "\n",
    "from sklearn.linear_model import SGDClassifier\n",
    "import pymysql"
   ]
  },
  {
   "cell_type": "code",
   "execution_count": 3,
   "metadata": {
    "collapsed": false
   },
   "outputs": [
    {
     "name": "stdout",
     "output_type": "stream",
     "text": [
      "215760\n"
     ]
    },
    {
     "data": {
      "text/html": [
       "<div>\n",
       "<table border=\"1\" class=\"dataframe\">\n",
       "  <thead>\n",
       "    <tr style=\"text-align: right;\">\n",
       "      <th></th>\n",
       "      <th>docket</th>\n",
       "      <th>id</th>\n",
       "      <th>after_prev</th>\n",
       "      <th>speaker</th>\n",
       "      <th>is_justice</th>\n",
       "      <th>justice_vote</th>\n",
       "      <th>presentation_side</th>\n",
       "      <th>utterance</th>\n",
       "    </tr>\n",
       "  </thead>\n",
       "  <tbody>\n",
       "    <tr>\n",
       "      <th>0</th>\n",
       "      <td>03-855</td>\n",
       "      <td>1</td>\n",
       "      <td>FALSE</td>\n",
       "      <td>JUSTICE STEVENS</td>\n",
       "      <td>JUSTICE</td>\n",
       "      <td>RESPONDENT</td>\n",
       "      <td>PETITIONER</td>\n",
       "      <td>We will now hear argument in the cas...</td>\n",
       "    </tr>\n",
       "    <tr>\n",
       "      <th>1</th>\n",
       "      <td>03-855</td>\n",
       "      <td>2</td>\n",
       "      <td>TRUE</td>\n",
       "      <td>MR. SACKS</td>\n",
       "      <td>NOT JUSTICE</td>\n",
       "      <td>NA</td>\n",
       "      <td>PETITIONER</td>\n",
       "      <td>Justice Stevens, and may it please t...</td>\n",
       "    </tr>\n",
       "    <tr>\n",
       "      <th>2</th>\n",
       "      <td>03-855</td>\n",
       "      <td>3</td>\n",
       "      <td>TRUE</td>\n",
       "      <td>JUSTICE KENNEDY</td>\n",
       "      <td>JUSTICE</td>\n",
       "      <td>PETITIONER</td>\n",
       "      <td>PETITIONER</td>\n",
       "      <td>Well, is it your position that whene...</td>\n",
       "    </tr>\n",
       "    <tr>\n",
       "      <th>3</th>\n",
       "      <td>03-855</td>\n",
       "      <td>4</td>\n",
       "      <td>TRUE</td>\n",
       "      <td>MR. SACKS</td>\n",
       "      <td>NOT JUSTICE</td>\n",
       "      <td>NA</td>\n",
       "      <td>PETITIONER</td>\n",
       "      <td>No. It is not our position that that...</td>\n",
       "    </tr>\n",
       "    <tr>\n",
       "      <th>4</th>\n",
       "      <td>03-855</td>\n",
       "      <td>5</td>\n",
       "      <td>TRUE</td>\n",
       "      <td>JUSTICE BREYER</td>\n",
       "      <td>JUSTICE</td>\n",
       "      <td>PETITIONER</td>\n",
       "      <td>PETITIONER</td>\n",
       "      <td>Why does not having a possessory rig...</td>\n",
       "    </tr>\n",
       "  </tbody>\n",
       "</table>\n",
       "</div>"
      ],
      "text/plain": [
       "   docket id after_prev          speaker   is_justice justice_vote  \\\n",
       "0  03-855  1      FALSE  JUSTICE STEVENS      JUSTICE   RESPONDENT   \n",
       "1  03-855  2       TRUE        MR. SACKS  NOT JUSTICE           NA   \n",
       "2  03-855  3       TRUE  JUSTICE KENNEDY      JUSTICE   PETITIONER   \n",
       "3  03-855  4       TRUE        MR. SACKS  NOT JUSTICE           NA   \n",
       "4  03-855  5       TRUE   JUSTICE BREYER      JUSTICE   PETITIONER   \n",
       "\n",
       "  presentation_side                                utterance  \n",
       "0        PETITIONER  We will now hear argument in the cas...  \n",
       "1        PETITIONER  Justice Stevens, and may it please t...  \n",
       "2        PETITIONER  Well, is it your position that whene...  \n",
       "3        PETITIONER  No. It is not our position that that...  \n",
       "4        PETITIONER  Why does not having a possessory rig...  "
      ]
     },
     "execution_count": 3,
     "metadata": {},
     "output_type": "execute_result"
    }
   ],
   "source": [
    "rows = []\n",
    "with open('full_conversations.txt') as fp:\n",
    "    for line in fp:\n",
    "        row = line.split(\" +++$+++ \")\n",
    "        rows.append(row)\n",
    "print len(rows)\n",
    "cols = [\"docket\",\n",
    "        \"id\",\n",
    "        \"after_prev\", \n",
    "        \"speaker\", \n",
    "        \"is_justice\", \n",
    "        \"justice_vote\", #want this (5)\n",
    "        \"presentation_side\", #want this (6)\n",
    "        \"utterance\", #want this (7)\n",
    "        ]\n",
    "pd.set_option('display.max_colwidth', 40)\n",
    "df = pd.DataFrame(rows)\n",
    "df.columns = cols\n",
    "df.head()\n"
   ]
  },
  {
   "cell_type": "code",
   "execution_count": 4,
   "metadata": {
    "collapsed": false
   },
   "outputs": [
    {
     "data": {
      "text/plain": [
       "JUSTICE SCALIA       17485\n",
       "JUSTICE ROBERTS      13835\n",
       "JUSTICE BREYER       13790\n",
       "JUSTICE GINSBURG      9792\n",
       "JUSTICE KENNEDY       8547\n",
       "JUSTICE SOTOMAYOR     7573\n",
       "JUSTICE STEVENS       5090\n",
       "JUSTICE SOUTER        5052\n",
       "JUSTICE ALITO         5048\n",
       "JUSTICE KAGAN         3508\n",
       "JUSTICE O'CONNOR       968\n",
       "JUSTICE REHNQUIST      598\n",
       "JUSTICE THOMAS          11\n",
       "JUDGE SCALIA             5\n",
       "JUDGE BREYER             3\n",
       "JUDGE GINSBURG           3\n",
       "JUDGE ALITO              3\n",
       "JUDGE SOTOMAYOR          2\n",
       "JUSTICE ROBERT           2\n",
       "JUDGE SOUTER             1\n",
       "JUTICE SCALIA            1\n",
       "JUSTINE GINSBURG         1\n",
       "JUTICE BREYER            1\n",
       "JUSTICE KENNED           1\n",
       "JUDGE STEVENS            1\n",
       "JUST SCALIA              1\n",
       "JUDGE ROBERTS            1\n",
       "JUSTCIE BREYER           1\n",
       "dtype: int64"
      ]
     },
     "execution_count": 4,
     "metadata": {},
     "output_type": "execute_result"
    }
   ],
   "source": [
    "counts = df[df.is_justice==\"JUSTICE\"].speaker.value_counts()\n",
    "counts"
   ]
  },
  {
   "cell_type": "code",
   "execution_count": 5,
   "metadata": {
    "collapsed": false
   },
   "outputs": [
    {
     "name": "stdout",
     "output_type": "stream",
     "text": [
      "['JUSTICE SCALIA' 'JUSTICE ROBERTS' 'JUSTICE BREYER' 'JUSTICE GINSBURG'\n",
      " 'JUSTICE KENNEDY' 'JUSTICE SOTOMAYOR' 'JUSTICE STEVENS' 'JUSTICE SOUTER'\n",
      " 'JUSTICE ALITO' 'JUSTICE KAGAN' \"JUSTICE O'CONNOR\" 'JUSTICE REHNQUIST']\n"
     ]
    },
    {
     "data": {
      "text/plain": [
       "91286"
      ]
     },
     "execution_count": 5,
     "metadata": {},
     "output_type": "execute_result"
    }
   ],
   "source": [
    "speakers = counts[counts>100].index.values\n",
    "print(speakers)\n",
    "df = df[df.speaker.isin(speakers)]\n",
    "len(df)"
   ]
  },
  {
   "cell_type": "code",
   "execution_count": 6,
   "metadata": {
    "collapsed": false
   },
   "outputs": [
    {
     "data": {
      "text/plain": [
       "204       Well hear argument first this morning in Case 09-497, Rent-A-Center West v. Jackson. Mr. Friedman. \\n                                                                                                                                                                                                                                                                                                                                                                                                                                                                                                                                 \n",
       "206       But not to the question of which parties have agreed to arbitrate?\\n                                                                                                                                                                                                                                                                                                                                                                                                                                                                                                                                                                  \n",
       "208       Not the question of which parties have agreed to arbitrate?\\n                                                                                                                                                                                                                                                                                                                                                                                                                                                                                                                                                                         \n",
       "236       But I suppose that the substance of the agreement -- maybe this is just the - Subject to Final Review same question as Justice Scalia's. I suppose the substance of the agreement is evidence -- could be evidence on the unconscionability at formation.\\n                                                                                                                                                                                                                                                                                                                                                                           \n",
       "238       And that is for the court.\\n                                                                                                                                                                                                                                                                                                                                                                                                                                                                                                                                                                                                          \n",
       "240       No, the point is -- it's not that. It would be the -- the provisions are so one-sided that you may assume from that that the formation was not voluntary.\\n                                                                                                                                                                                                                                                                                                                                                                                                                                                                           \n",
       "268       So your position is that the arbitrator gets to decide questions of unconscionability, but the court gets to decide whether the arbitrator can do that?\\n                                                                                                                                                                                                                                                                                                                                                                                                                                                                             \n",
       "290       I would have thought the answer to your -- the answer to your answer would be, well then, the -- youre more likely to win on that question. Obviously, you are going to lose on the gun to the head, but if its simply the economic inequality or whatever, under the State law youre probably going to prevail, and they will say there is a valid contract. I thought the -- your -- your whole point was simply it's all or nothing. The courts get to decide is there a valid contract or is there not. And once they decide there is, then everything else about unconscionability of particular clauses is for the arbitrator.\\n\n",
       "307       Thank you, counsel. Mr. Silverberg. \\n                                                                                                                                                                                                                                                                                                                                                                                                                                                                                                                                                                                                \n",
       "311       I would have thought the issue would be -- it's odd to say, I think, that if you have 10 provisions, some are unconscionable and some are not. The issue would be whether there is unconscionability in the making of the whole contract. In other words, it's the same question I asked your friend: Why isn't it all or nothing? If it was -- if there was no unconscionability in the making, then the arbitrator decides. If there was unconscionability in the making, then -- then the arbitrator doesn't decide anything. Questions 1 through 10, not simply, you know, - Subject to Final Review 1, 8, and 9.\\n               \n",
       "313       No, my point is that once you get past that gateway question of whether the formation of the contract was not unconscionable, then claims that particular provisions were unconscionable are by definition for the arbitrator to decide.\\n                                                                                                                                                                                                                                                                                                                                                                                            \n",
       "362       I thought your --\\n                                                                                                                                                                                                                                                                                                                                                                                                                                                                                                                                                                                                                   \n",
       "408       No, that can't be right. The -- how can you say there's no problem agreeing to arbitrate, no imbalance in bargaining authority whatever, but then say, oh, but these procedures are unconscionable? It seems to me that the procedures are there, and the party, the employee, whatever, can look at those. And if he says, well, that's unconscionable, you don't sign the agreement as a whole. But once you are -- in for a penny, in for a pound. If you agree to arbitrate, then it's at least for the arbitrator to decide particular provisions, whether theyre unconscionable.\\n                                              \n",
       "410       I know youre arguing in the alternative. But the one argument that we get to pick out the provisions we don't like and say those are unconscionable, but the agreement as a whole is not -- that seems to me illogical.\\n                                                                                                                                                                                                                                                                                                                                                                                                             \n",
       "412       Well, it's a matter -- it may be a matter of State law, but the open question is who gets to decide it.\\n                                                                                                                                                                                                                                                                                                                                                                                                                                                                                                                             \n",
       "414       Arbitrators decide matters of State law all the time.\\n                                                                                                                                                                                                                                                                                                                                                                                                                                                                                                                                                                               \n",
       "446       Does it make a difference in response to Justice Stevens's hypothetical that there is a provision saying the arbitrator will decide the conscionability of all clauses? The arbitrator may decide that clauses 2 and 8 are unconscionable, but if theres an agreement and it's not unconscionable that the arbitrator will decide, then the arbitrator decides all of them, right?\\n                                                                                                                                                                                                                                                  \n",
       "448       Right.\\n                                                                                                                                                                                                                                                                                                                                                                                                                                                                                                                                                                                                                              \n",
       "450       Can I ask you just a follow-up on Justice Breyer's hypothetical to you where he had the first agreement and then the issue to the second? You said youve got to leave the door open. The door open on the second agreement or on the first agreement?\\n                                                                                                                                                                                                                                                                                                                                                                               \n",
       "467       Thank you, counsel. Mr. Friedman, you have 4 minutes remaining. \\n                                                                                                                                                                                                                                                                                                                                                                                                                                                                                                                                                                    \n",
       "479       We will hear argument next in Case 13534, North Carolina State Board of Dental Examiners v. The Federal Trade Commission. Mr. Mooppan. \\n                                                                                                                                                                                                                                                                                                                                                                                                                                                                                             \n",
       "527       Why is a statute that says do what you want not clearly articulated?\\n                                                                                                                                                                                                                                                                                                                                                                                                                                                                                                                                                                \n",
       "529       It says clearly  do what you want so long as it promotes the dental  monopoly of dentists.\\n                                                                                                                                                                                                                                                                                                                                                                                                                                                                                                                                          \n",
       "531       So it's not enough just to say, oh, you're a public agent or you're a public official.\\n                                                                                                                                                                                                                                                                                                                                                                                                                                                                                                                                              \n",
       "533       But none of that's responsive to the concern that the State policy is purely to displace competition by promoting the selfinterest of the dentist.\\n                                                                                                                                                                                                                                                                                                                                                                                                                                                                                  \n",
       "535       They can do that in open meeting. They can do that with let anyone look at the records but \\n                                                                                                                                                                                                                                                                                                                                                                                                                                                                                                                                         \n",
       "577       Thank you, counsel. Mr. Stewart. \\n                                                                                                                                                                                                                                                                                                                                                                                                                                                                                                                                                                                                   \n",
       "593       Presumably they also set judicial ethics rules.\\n                                                                                                                                                                                                                                                                                                                                                                                                                                                                                                                                                                                     \n",
       "627       What if the  I'm sorry. Please.\\n                                                                                                                                                                                                                                                                                                                                                                                                                                                                                                                                                                                                     \n",
       "629       Well, what if one of the members of the board is appointed as a fulltime member of the board for a oneyear term and he's  he's called the board state supervisor, is that good enough?\\n                                                                                                                                                                                                                                                                                                                                                                                                                                              \n",
       "                                                                                                    ...                                                                                                                                                                                                                                                                                                                                                                                                                                                                                                                                         \n",
       "215442    Thank you, counsel. Mr. Bartolomucci. \\n                                                                                                                                                                                                                                                                                                                                                                                                                                                                                                                                                                                              \n",
       "215444    This is our original jurisdiction. I regard the Special Master as more akin to a law clerk than a district judge. We don't defer to somebody who's an aide that we have assigned to help us gather things here. I think on legal questions of intervention we have to decide de novo.\\n                                                                                                                                                                                                                                                                                                                                               \n",
       "215454    Counsel, let me tell you what I'm very worried about. This is our original jurisdiction, a delicate jurisdiction that allows us to resolve disputes between sovereign States. And I look out and I see all sorts of private parties intervening in a way that would give them party status. And I think that's compromising what our original jurisdiction is supposed to be about.\\n                                                                                                                                                                                                                                                 \n",
       "215460    You're -- all of the intervenors, prospective intervenors, they want to make sure North Carolina doesn't lose water, right?\\n                                                                                                                                                                                                                                                                                                                                                                                                                                                                                                         \n",
       "215462    Well, their -- well, they want to reduce South Carolina's claim on the water.\\n                                                                                                                                                                                                                                                                                                                                                                                                                                                                                                                                                       \n",
       "215464    Well -- to the extent they have differing interests, why aren't those interests fully satisfied by amicus participation?\\n                                                                                                                                                                                                                                                                                                                                                                                                                                                                                                            \n",
       "215466    Shape the record, but intervention status would give you the right to appeal, right?\\n                                                                                                                                                                                                                                                                                                                                                                                                                                                                                                                                                \n",
       "215468    Right, and appeal the normal case.\\n                                                                                                                                                                                                                                                                                                                                                                                                                                                                                                                                                                                                  \n",
       "215470    Well, that's my question. If we grant intervention in this type of case and there is no reason it would be three -- I mean, in the next case, it could be 20 different intervenors, and they are filing exceptions every other week that we have to review and adjudicate because they are not bound by whether or not the State that is on their side wants to file exceptions.\\n                                                                                                                                                                                                                                                    \n",
       "215474    And North Carolina, as a sovereign State, can represent the interests of its constituents as it sees fit. You and your fellow prospective intervenors just have to do what citizens do all the time, which is convince North Carolina, one, and you can help them, to get as much water as they can; and, two, when they get it or if they lose it, whatever they are left it, to give it to you, rather than the other parties.\\n                                                                                                                                                                                                    \n",
       "215476    Well, then thats - then I just wonder why you are here in an original action. What you are saying is they have all sorts of different interests, and it just -- they get to skip district court. They get to skip the court of appeals. They can just come right in here, as if they were a State, and participate in the case.\\n                                                                                                                                                                                                                                                                                                     \n",
       "215486    You dont --\\n                                                                                                                                                                                                                                                                                                                                                                                                                                                                                                                                                                                                                         \n",
       "215499    Well, what's special about it? I mean, let's say I own a little farm on the banks of the Catawba, and I take water out to -- so the cows have something to drink, why does Charlotte get a special status just because they take a lot? I'm affected by how much water runs through there.\\n                                                                                                                                                                                                                                                                                                                                          \n",
       "215501    Well, and that relief will affect how much water is available for me to draw out and use on my farm. That's a compelling interest. I -- you know, in times of drought, this water barely trickles by, and, if it's cut back, the farm is going to go down. It seems to me that, when you say they have a special interest, you are just saying they have got a big interest.\\n                                                                                                                                                                                                                                                        \n",
       "215503    Well, let's say the interest -- the dispute is really in effect between company ABC in North Carolina and company XYZ in South Carolina. I mean, do we -- we would not accept an original action if they sued each other, right?\\n                                                                                                                                                                                                                                                                                                                                                                                                    \n",
       "215505    Do we let them just use the States as, you know, a faade to get into this Court and have their dispute adjudicated here?\\n                                                                                                                                                                                                                                                                                                                                                                                                                                                                                                            \n",
       "215510    Wouldnt it  would it be surprising if the Special Master recommended that all the issue that she was going to address was the relative equitable apportionment between North Carolina and South Carolina, and even though South Carolina wanted an injunction directed against the City of Charlotte, that's up to North Carolina? North Carolina can divvy up its water however it wants.\\n                                                                                                                                                                                                                                          \n",
       "215539    Thank you, Counsel.\\n                                                                                                                                                                                                                                                                                                                                                                                                                                                                                                                                                                                                                 \n",
       "215541    Mr. Browning. \\n                                                                                                                                                                                                                                                                                                                                                                                                                                                                                                                                                                                                                      \n",
       "215543    Maryland v. Louisiana involved a specific tax on specific companies, and they were allowed to intervene. This is not that. This is a question of how the equitable apportionment of the water is going to be, and North Carolina can do with the water whatever it will. It strikes me as very different than Maryland v. Louisiana.\\n                                                                                                                                                                                                                                                                                                \n",
       "215547    As -- as the allocation would in this case, presumably.\\n                                                                                                                                                                                                                                                                                                                                                                                                                                                                                                                                                                             \n",
       "215559    Counsel, my basic concern is that -- and I will let you finish if there is more to the answer. I'm sorry. Private parties are going to hijack our original jurisdiction, and it was highlighted for me when I read your motion, the motion of private parties for divided argument. Your proposal was that they be divided 10, 10, and 10. You didn't even want to be here. As they view the case and as you view the case, it's got so little to do with the State that the State didn't even want to come here and argue the case.\\n                                                                                                \n",
       "215561    You thought their participation here before this Court on a question in original jurisdiction was more important than yours, and you represent the State.\\n                                                                                                                                                                                                                                                                                                                                                                                                                                                                           \n",
       "215563    Why can't you represent them?\\n                                                                                                                                                                                                                                                                                                                                                                                                                                                                                                                                                                                                       \n",
       "215565    They are your constituents. You are the State. You are coming here directly, not even going to district court, and you seem to be ceding your sovereignty over to them.\\n                                                                                                                                                                                                                                                                                                                                                                                                                                                             \n",
       "215571    What is -- what's the interest of North Carolina?\\n                                                                                                                                                                                                                                                                                                                                                                                                                                                                                                                                                                                   \n",
       "215573    You are standing there telling me why Duke has an interest. Whats North Carolina's interest?\\n                                                                                                                                                                                                                                                                                                                                                                                                                                                                                                                                        \n",
       "215575    So oppose their intervention.\\n                                                                                                                                                                                                                                                                                                                                                                                                                                                                                                                                                                                                       \n",
       "215593    Well, if it's an attack on -- if it's an attack on Charlotte, I would expect the State to be standing there protecting it and not feel that they can't do that without Charlotte, itself, coming into the case.\\n                                                                                                                                                                                                                                                                                                                                                                                                                     \n",
       "215605    Thank you, counsel. Mr. Frederick, you have 2 minutes. \\n                                                                                                                                                                                                                                                                                                                                                                                                                                                                                                                                                                             \n",
       "Name: utterance, dtype: object"
      ]
     },
     "execution_count": 6,
     "metadata": {},
     "output_type": "execute_result"
    }
   ],
   "source": [
    "pd.set_option('display.max_colwidth', -1)\n",
    "df[df.speaker==\"JUSTICE ROBERTS\"].utterance\n"
   ]
  },
  {
   "cell_type": "code",
   "execution_count": 7,
   "metadata": {
    "collapsed": false
   },
   "outputs": [
    {
     "data": {
      "text/plain": [
       "(91286, 8)"
      ]
     },
     "execution_count": 7,
     "metadata": {},
     "output_type": "execute_result"
    }
   ],
   "source": [
    "pd.set_option('display.max_colwidth', 40)\n",
    "df.shape\n"
   ]
  },
  {
   "cell_type": "code",
   "execution_count": 8,
   "metadata": {
    "collapsed": false
   },
   "outputs": [
    {
     "data": {
      "text/plain": [
       "PETITIONER    46705\n",
       "RESPONDENT    30639\n",
       "NA            13942\n",
       "dtype: int64"
      ]
     },
     "execution_count": 8,
     "metadata": {},
     "output_type": "execute_result"
    }
   ],
   "source": [
    "df.presentation_side.value_counts()"
   ]
  },
  {
   "cell_type": "code",
   "execution_count": 9,
   "metadata": {
    "collapsed": false
   },
   "outputs": [],
   "source": [
    "sides = [\"PETITIONER\",\"RESPONDENT\"]\n",
    "df = df[(df.presentation_side.isin(sides)) & (df.justice_vote.isin(sides)) & (df.is_justice==\"JUSTICE\") ]"
   ]
  },
  {
   "cell_type": "code",
   "execution_count": 10,
   "metadata": {
    "collapsed": false
   },
   "outputs": [
    {
     "data": {
      "text/plain": [
       "(76778, 8)"
      ]
     },
     "execution_count": 10,
     "metadata": {},
     "output_type": "execute_result"
    }
   ],
   "source": [
    "df.shape"
   ]
  },
  {
   "cell_type": "code",
   "execution_count": 11,
   "metadata": {
    "collapsed": false
   },
   "outputs": [
    {
     "data": {
      "text/plain": [
       "PETITIONER    48206\n",
       "RESPONDENT    28572\n",
       "dtype: int64"
      ]
     },
     "execution_count": 11,
     "metadata": {},
     "output_type": "execute_result"
    }
   ],
   "source": [
    "df.justice_vote.value_counts()"
   ]
  },
  {
   "cell_type": "code",
   "execution_count": 12,
   "metadata": {
    "collapsed": false
   },
   "outputs": [
    {
     "data": {
      "text/html": [
       "<div>\n",
       "<table border=\"1\" class=\"dataframe\">\n",
       "  <thead>\n",
       "    <tr style=\"text-align: right;\">\n",
       "      <th></th>\n",
       "      <th>docket</th>\n",
       "      <th>id</th>\n",
       "      <th>after_prev</th>\n",
       "      <th>speaker</th>\n",
       "      <th>is_justice</th>\n",
       "      <th>justice_vote</th>\n",
       "      <th>presentation_side</th>\n",
       "      <th>utterance</th>\n",
       "    </tr>\n",
       "  </thead>\n",
       "  <tbody>\n",
       "    <tr>\n",
       "      <th>0</th>\n",
       "      <td>03-855</td>\n",
       "      <td>1</td>\n",
       "      <td>FALSE</td>\n",
       "      <td>JUSTICE STEVENS</td>\n",
       "      <td>JUSTICE</td>\n",
       "      <td>RESPONDENT</td>\n",
       "      <td>PETITIONER</td>\n",
       "      <td>We will now hear argument in the cas...</td>\n",
       "    </tr>\n",
       "    <tr>\n",
       "      <th>2</th>\n",
       "      <td>03-855</td>\n",
       "      <td>3</td>\n",
       "      <td>TRUE</td>\n",
       "      <td>JUSTICE KENNEDY</td>\n",
       "      <td>JUSTICE</td>\n",
       "      <td>PETITIONER</td>\n",
       "      <td>PETITIONER</td>\n",
       "      <td>Well, is it your position that whene...</td>\n",
       "    </tr>\n",
       "    <tr>\n",
       "      <th>4</th>\n",
       "      <td>03-855</td>\n",
       "      <td>5</td>\n",
       "      <td>TRUE</td>\n",
       "      <td>JUSTICE BREYER</td>\n",
       "      <td>JUSTICE</td>\n",
       "      <td>PETITIONER</td>\n",
       "      <td>PETITIONER</td>\n",
       "      <td>Why does not having a possessory rig...</td>\n",
       "    </tr>\n",
       "    <tr>\n",
       "      <th>6</th>\n",
       "      <td>03-855</td>\n",
       "      <td>7</td>\n",
       "      <td>TRUE</td>\n",
       "      <td>JUSTICE BREYER</td>\n",
       "      <td>JUSTICE</td>\n",
       "      <td>PETITIONER</td>\n",
       "      <td>PETITIONER</td>\n",
       "      <td>No, I'm just thinking, that suppose ...</td>\n",
       "    </tr>\n",
       "    <tr>\n",
       "      <th>8</th>\n",
       "      <td>03-855</td>\n",
       "      <td>9</td>\n",
       "      <td>TRUE</td>\n",
       "      <td>JUSTICE KENNEDY</td>\n",
       "      <td>JUSTICE</td>\n",
       "      <td>PETITIONER</td>\n",
       "      <td>PETITIONER</td>\n",
       "      <td>All right. So if you were to say the...</td>\n",
       "    </tr>\n",
       "  </tbody>\n",
       "</table>\n",
       "</div>"
      ],
      "text/plain": [
       "   docket id after_prev          speaker is_justice justice_vote  \\\n",
       "0  03-855  1      FALSE  JUSTICE STEVENS    JUSTICE   RESPONDENT   \n",
       "2  03-855  3       TRUE  JUSTICE KENNEDY    JUSTICE   PETITIONER   \n",
       "4  03-855  5       TRUE   JUSTICE BREYER    JUSTICE   PETITIONER   \n",
       "6  03-855  7       TRUE   JUSTICE BREYER    JUSTICE   PETITIONER   \n",
       "8  03-855  9       TRUE  JUSTICE KENNEDY    JUSTICE   PETITIONER   \n",
       "\n",
       "  presentation_side                                utterance  \n",
       "0        PETITIONER  We will now hear argument in the cas...  \n",
       "2        PETITIONER  Well, is it your position that whene...  \n",
       "4        PETITIONER  Why does not having a possessory rig...  \n",
       "6        PETITIONER  No, I'm just thinking, that suppose ...  \n",
       "8        PETITIONER  All right. So if you were to say the...  "
      ]
     },
     "execution_count": 12,
     "metadata": {},
     "output_type": "execute_result"
    }
   ],
   "source": [
    "df.head()"
   ]
  },
  {
   "cell_type": "code",
   "execution_count": 13,
   "metadata": {
    "collapsed": true
   },
   "outputs": [],
   "source": [
    "df.presentation_side = df.presentation_side.map({\"PETITIONER\": 1, \"RESPONDENT\": 0})\n",
    "df.justice_vote = df.justice_vote.map({\"PETITIONER\": 1, \"RESPONDENT\": 0})"
   ]
  },
  {
   "cell_type": "code",
   "execution_count": 14,
   "metadata": {
    "collapsed": false
   },
   "outputs": [
    {
     "data": {
      "text/html": [
       "<div>\n",
       "<table border=\"1\" class=\"dataframe\">\n",
       "  <thead>\n",
       "    <tr style=\"text-align: right;\">\n",
       "      <th></th>\n",
       "      <th>justice_vote</th>\n",
       "      <th>presentation_side</th>\n",
       "    </tr>\n",
       "  </thead>\n",
       "  <tbody>\n",
       "    <tr>\n",
       "      <th>count</th>\n",
       "      <td>76778.000000</td>\n",
       "      <td>76778.000000</td>\n",
       "    </tr>\n",
       "    <tr>\n",
       "      <th>mean</th>\n",
       "      <td>0.627862</td>\n",
       "      <td>0.603350</td>\n",
       "    </tr>\n",
       "    <tr>\n",
       "      <th>std</th>\n",
       "      <td>0.483378</td>\n",
       "      <td>0.489205</td>\n",
       "    </tr>\n",
       "    <tr>\n",
       "      <th>min</th>\n",
       "      <td>0.000000</td>\n",
       "      <td>0.000000</td>\n",
       "    </tr>\n",
       "    <tr>\n",
       "      <th>25%</th>\n",
       "      <td>0.000000</td>\n",
       "      <td>0.000000</td>\n",
       "    </tr>\n",
       "    <tr>\n",
       "      <th>50%</th>\n",
       "      <td>1.000000</td>\n",
       "      <td>1.000000</td>\n",
       "    </tr>\n",
       "    <tr>\n",
       "      <th>75%</th>\n",
       "      <td>1.000000</td>\n",
       "      <td>1.000000</td>\n",
       "    </tr>\n",
       "    <tr>\n",
       "      <th>max</th>\n",
       "      <td>1.000000</td>\n",
       "      <td>1.000000</td>\n",
       "    </tr>\n",
       "  </tbody>\n",
       "</table>\n",
       "</div>"
      ],
      "text/plain": [
       "       justice_vote  presentation_side\n",
       "count  76778.000000       76778.000000\n",
       "mean       0.627862           0.603350\n",
       "std        0.483378           0.489205\n",
       "min        0.000000           0.000000\n",
       "25%        0.000000           0.000000\n",
       "50%        1.000000           1.000000\n",
       "75%        1.000000           1.000000\n",
       "max        1.000000           1.000000"
      ]
     },
     "execution_count": 14,
     "metadata": {},
     "output_type": "execute_result"
    }
   ],
   "source": [
    "df.describe()"
   ]
  },
  {
   "cell_type": "code",
   "execution_count": 15,
   "metadata": {
    "collapsed": false
   },
   "outputs": [
    {
     "data": {
      "text/html": [
       "<div>\n",
       "<table border=\"1\" class=\"dataframe\">\n",
       "  <thead>\n",
       "    <tr style=\"text-align: right;\">\n",
       "      <th></th>\n",
       "      <th>docket</th>\n",
       "      <th>id</th>\n",
       "      <th>after_prev</th>\n",
       "      <th>speaker</th>\n",
       "      <th>is_justice</th>\n",
       "      <th>justice_vote</th>\n",
       "      <th>presentation_side</th>\n",
       "      <th>utterance</th>\n",
       "    </tr>\n",
       "  </thead>\n",
       "  <tbody>\n",
       "    <tr>\n",
       "      <th>0</th>\n",
       "      <td>03-855</td>\n",
       "      <td>1</td>\n",
       "      <td>FALSE</td>\n",
       "      <td>JUSTICE STEVENS</td>\n",
       "      <td>JUSTICE</td>\n",
       "      <td>0</td>\n",
       "      <td>1</td>\n",
       "      <td>We will now hear argument in the cas...</td>\n",
       "    </tr>\n",
       "    <tr>\n",
       "      <th>2</th>\n",
       "      <td>03-855</td>\n",
       "      <td>3</td>\n",
       "      <td>TRUE</td>\n",
       "      <td>JUSTICE KENNEDY</td>\n",
       "      <td>JUSTICE</td>\n",
       "      <td>1</td>\n",
       "      <td>1</td>\n",
       "      <td>Well, is it your position that whene...</td>\n",
       "    </tr>\n",
       "    <tr>\n",
       "      <th>4</th>\n",
       "      <td>03-855</td>\n",
       "      <td>5</td>\n",
       "      <td>TRUE</td>\n",
       "      <td>JUSTICE BREYER</td>\n",
       "      <td>JUSTICE</td>\n",
       "      <td>1</td>\n",
       "      <td>1</td>\n",
       "      <td>Why does not having a possessory rig...</td>\n",
       "    </tr>\n",
       "    <tr>\n",
       "      <th>6</th>\n",
       "      <td>03-855</td>\n",
       "      <td>7</td>\n",
       "      <td>TRUE</td>\n",
       "      <td>JUSTICE BREYER</td>\n",
       "      <td>JUSTICE</td>\n",
       "      <td>1</td>\n",
       "      <td>1</td>\n",
       "      <td>No, I'm just thinking, that suppose ...</td>\n",
       "    </tr>\n",
       "    <tr>\n",
       "      <th>8</th>\n",
       "      <td>03-855</td>\n",
       "      <td>9</td>\n",
       "      <td>TRUE</td>\n",
       "      <td>JUSTICE KENNEDY</td>\n",
       "      <td>JUSTICE</td>\n",
       "      <td>1</td>\n",
       "      <td>1</td>\n",
       "      <td>All right. So if you were to say the...</td>\n",
       "    </tr>\n",
       "  </tbody>\n",
       "</table>\n",
       "</div>"
      ],
      "text/plain": [
       "   docket id after_prev          speaker is_justice  justice_vote  \\\n",
       "0  03-855  1      FALSE  JUSTICE STEVENS    JUSTICE             0   \n",
       "2  03-855  3       TRUE  JUSTICE KENNEDY    JUSTICE             1   \n",
       "4  03-855  5       TRUE   JUSTICE BREYER    JUSTICE             1   \n",
       "6  03-855  7       TRUE   JUSTICE BREYER    JUSTICE             1   \n",
       "8  03-855  9       TRUE  JUSTICE KENNEDY    JUSTICE             1   \n",
       "\n",
       "   presentation_side                                utterance  \n",
       "0                  1  We will now hear argument in the cas...  \n",
       "2                  1  Well, is it your position that whene...  \n",
       "4                  1  Why does not having a possessory rig...  \n",
       "6                  1  No, I'm just thinking, that suppose ...  \n",
       "8                  1  All right. So if you were to say the...  "
      ]
     },
     "execution_count": 15,
     "metadata": {},
     "output_type": "execute_result"
    }
   ],
   "source": [
    "df.head()\n",
    "# def polarize(data):\n",
    "#     return TextBlob(data).polarity\n",
    "\n",
    "# df[\"polarity\"] = df.utterance.apply(polarize)\n"
   ]
  },
  {
   "cell_type": "code",
   "execution_count": 16,
   "metadata": {
    "collapsed": false
   },
   "outputs": [],
   "source": [
    "rows = []\n",
    "for docket in df.docket.unique():\n",
    "    cond_a = (df.docket == docket)\n",
    "    for speaker in speakers:\n",
    "        cond_b = (df.speaker == speaker)\n",
    "        if len(df[(cond_a)&(cond_b)].presentation_side.unique())!=2: continue\n",
    "        justice_vote = df[(cond_a)&(cond_b)].justice_vote.head(1).values[0]\n",
    "        row = [docket,speaker,justice_vote]        \n",
    "        for presentation_side in [0,1]:\n",
    "            cond_c = (df.presentation_side == presentation_side)\n",
    "            temp_df = df[(cond_a) & (cond_b) & (cond_c)]\n",
    "            utterances = temp_df.utterance\n",
    "            # print(utterances.head(1).values)\n",
    "            text = \" \".join(utterances.tolist()).replace('\\n', ' ').replace('--', '')\n",
    "            row.append(text)\n",
    "        rows.append(row)\n",
    "\n"
   ]
  },
  {
   "cell_type": "code",
   "execution_count": 17,
   "metadata": {
    "collapsed": false
   },
   "outputs": [
    {
     "name": "stdout",
     "output_type": "stream",
     "text": [
      "3353\n"
     ]
    },
    {
     "data": {
      "text/html": [
       "<div>\n",
       "<table border=\"1\" class=\"dataframe\">\n",
       "  <thead>\n",
       "    <tr style=\"text-align: right;\">\n",
       "      <th></th>\n",
       "      <th>docket</th>\n",
       "      <th>speaker</th>\n",
       "      <th>justice_vote</th>\n",
       "      <th>pres0_text</th>\n",
       "      <th>pres1_text</th>\n",
       "    </tr>\n",
       "  </thead>\n",
       "  <tbody>\n",
       "    <tr>\n",
       "      <th>0</th>\n",
       "      <td>09-497</td>\n",
       "      <td>JUSTICE SCALIA</td>\n",
       "      <td>1</td>\n",
       "      <td>Is that  is that right? Is the arbit...</td>\n",
       "      <td>I guess you could argue that on its ...</td>\n",
       "    </tr>\n",
       "    <tr>\n",
       "      <th>1</th>\n",
       "      <td>09-497</td>\n",
       "      <td>JUSTICE ROBERTS</td>\n",
       "      <td>1</td>\n",
       "      <td>Thank you, counsel. Mr. Silverberg. ...</td>\n",
       "      <td>Well hear argument first this mornin...</td>\n",
       "    </tr>\n",
       "    <tr>\n",
       "      <th>2</th>\n",
       "      <td>09-497</td>\n",
       "      <td>JUSTICE BREYER</td>\n",
       "      <td>0</td>\n",
       "      <td>What is  what I'm not sure about wha...</td>\n",
       "      <td>Yes, that's  thats true. The thing I...</td>\n",
       "    </tr>\n",
       "    <tr>\n",
       "      <th>3</th>\n",
       "      <td>09-497</td>\n",
       "      <td>JUSTICE GINSBURG</td>\n",
       "      <td>0</td>\n",
       "      <td>Why is that  why is - Subject to Fin...</td>\n",
       "      <td>But if  if fraud in the inducement, ...</td>\n",
       "    </tr>\n",
       "    <tr>\n",
       "      <th>4</th>\n",
       "      <td>09-497</td>\n",
       "      <td>JUSTICE KENNEDY</td>\n",
       "      <td>1</td>\n",
       "      <td>After this   After this suit was fil...</td>\n",
       "      <td>Why is it post-formation? Arguably, ...</td>\n",
       "    </tr>\n",
       "  </tbody>\n",
       "</table>\n",
       "</div>"
      ],
      "text/plain": [
       "   docket           speaker  justice_vote  \\\n",
       "0  09-497    JUSTICE SCALIA             1   \n",
       "1  09-497   JUSTICE ROBERTS             1   \n",
       "2  09-497    JUSTICE BREYER             0   \n",
       "3  09-497  JUSTICE GINSBURG             0   \n",
       "4  09-497   JUSTICE KENNEDY             1   \n",
       "\n",
       "                                pres0_text  \\\n",
       "0  Is that  is that right? Is the arbit...   \n",
       "1  Thank you, counsel. Mr. Silverberg. ...   \n",
       "2  What is  what I'm not sure about wha...   \n",
       "3  Why is that  why is - Subject to Fin...   \n",
       "4  After this   After this suit was fil...   \n",
       "\n",
       "                                pres1_text  \n",
       "0  I guess you could argue that on its ...  \n",
       "1  Well hear argument first this mornin...  \n",
       "2  Yes, that's  thats true. The thing I...  \n",
       "3  But if  if fraud in the inducement, ...  \n",
       "4  Why is it post-formation? Arguably, ...  "
      ]
     },
     "execution_count": 17,
     "metadata": {},
     "output_type": "execute_result"
    }
   ],
   "source": [
    "cols = [\"docket\",\n",
    "        \"speaker\",\n",
    "        \"justice_vote\",\n",
    "        \"pres0_text\",\n",
    "        \"pres1_text\", \n",
    "        ]\n",
    "\n",
    "print len(rows)\n",
    "df2 = pd.DataFrame(rows)\n",
    "df2.columns = cols\n",
    "df2.head()\n",
    "\n",
    "\n"
   ]
  },
  {
   "cell_type": "code",
   "execution_count": 18,
   "metadata": {
    "collapsed": false
   },
   "outputs": [
    {
     "name": "stdout",
     "output_type": "stream",
     "text": [
      "clf__alpha: 0.01\n",
      "vect__ngram_range: (1, 3)\n",
      "vect__stop_words: None\n",
      "nb0 score: 0.601550849985\n",
      "clf__alpha: 0.01\n",
      "vect__ngram_range: (1, 4)\n",
      "vect__stop_words: None\n",
      "nb1 score: 0.583954667462\n",
      "Dummy score: 0.603638532657\n"
     ]
    }
   ],
   "source": [
    "###### Naive Bayes ########\n",
    "\n",
    "X0 = df2.pres0_text\n",
    "y0 = df2.justice_vote\n",
    "\n",
    "X1 = df2.pres1_text\n",
    "y1 = df2.justice_vote\n",
    "\n",
    "nb_pipeline = Pipeline([('vect', TfidfVectorizer()),\n",
    "                     ('clf', MultinomialNB()),\n",
    "])\n",
    "\n",
    "nb_parameters = {'vect__ngram_range': [(1, 1),(1,2),(1,3),(1,4)],\n",
    "                 'vect__stop_words': [\"english\",None],\n",
    "                 'clf__alpha': (1e-2, 1e-3),\n",
    "}\n",
    "\n",
    "\n",
    "nb_gs = GridSearchCV(nb_pipeline, nb_parameters, n_jobs=-1)\n",
    "nb0_gs = nb_gs.fit(X0,y0)\n",
    "\n",
    "\n",
    "nb0_best_parameters, nb0_score, _ = max(nb0_gs.grid_scores_, key=lambda x: x[1])\n",
    "for param_name in sorted(nb0_best_parameters.keys()):\n",
    "    print(\"%s: %r\" % (param_name, nb0_best_parameters[param_name]))\n",
    "print(\"nb0 score: \" + str(nb0_score))\n",
    "    \n",
    "nb1_gs = nb_gs.fit(X1,y1)\n",
    "nb1_best_parameters, nb1_score, _ = max(nb1_gs.grid_scores_, key=lambda x: x[1])\n",
    "for param_name in sorted(nb1_best_parameters.keys()):\n",
    "    print(\"%s: %r\" % (param_name, nb1_best_parameters[param_name]))\n",
    "print(\"nb1 score: \" + str(nb1_score))\n",
    "\n",
    "print \"Dummy score: \" + str(y0[y0==y0.mode().values[0]].size/y0.size)"
   ]
  },
  {
   "cell_type": "code",
   "execution_count": 19,
   "metadata": {
    "collapsed": false
   },
   "outputs": [
    {
     "name": "stdout",
     "output_type": "stream",
     "text": [
      "vect__ngram_range: (1, 2)\n",
      "vect__stop_words: 'english'\n",
      "sv0 score: 0.60572621533\n",
      "vect__ngram_range: (1, 1)\n",
      "vect__stop_words: None\n",
      "sv1 score: 0.605427974948\n",
      "Dummy score: 0.603638532657\n"
     ]
    }
   ],
   "source": [
    "###### Support Vector Machine ########\n",
    "\n",
    "X0 = df2.pres0_text\n",
    "y0 = df2.justice_vote\n",
    "\n",
    "X1 = df2.pres1_text\n",
    "y1 = df2.justice_vote\n",
    "\n",
    "sv_pipeline = Pipeline([('vect', TfidfVectorizer()),\n",
    "                     ('clf', SGDClassifier(loss='hinge', penalty='l2',\n",
    "                                               alpha=1e-3, n_iter=5, random_state=42)),\n",
    "])\n",
    "\n",
    "sv_parameters = {'vect__ngram_range': [(1, 1),(1,2),(1,3),(1,4)],\n",
    "              'vect__stop_words': [\"english\",None],\n",
    "}\n",
    "\n",
    "\n",
    "\n",
    "sv_gs = GridSearchCV(sv_pipeline, sv_parameters, n_jobs=-1)\n",
    "\n",
    "sv0_gs = sv_gs.fit(X0,y0)\n",
    "\n",
    "\n",
    "sv0_best_parameters, sv0_score, _ = max(sv0_gs.grid_scores_, key=lambda x: x[1])\n",
    "for param_name in sorted(sv0_best_parameters.keys()):\n",
    "    print(\"%s: %r\" % (param_name, sv0_best_parameters[param_name]))\n",
    "print(\"sv0 score: \" + str(sv0_score))\n",
    "    \n",
    "sv1_gs = sv_gs.fit(X1,y1)\n",
    "sv1_best_parameters, sv1_score, _ = max(sv1_gs.grid_scores_, key=lambda x: x[1])\n",
    "for param_name in sorted(sv1_best_parameters.keys()):\n",
    "    print(\"%s: %r\" % (param_name, sv1_best_parameters[param_name]))\n",
    "print(\"sv1 score: \" + str(sv1_score))\n",
    "\n",
    "print \"Dummy score: \" + str(y0[y0==y0.mode().values[0]].size/y0.size)"
   ]
  },
  {
   "cell_type": "code",
   "execution_count": 20,
   "metadata": {
    "collapsed": false
   },
   "outputs": [
    {
     "name": "stdout",
     "output_type": "stream",
     "text": [
      "vect__ngram_range: (1, 3)\n",
      "vect__stop_words: None\n",
      "lr0 score: 0.607217417238\n",
      "vect__ngram_range: (1, 4)\n",
      "vect__stop_words: None\n",
      "lr1 score: 0.614076946018\n",
      "Dummy score: 0.603638532657\n"
     ]
    }
   ],
   "source": [
    "###### LOGISTIC REGRESSION ########\n",
    "\n",
    "X0 = df2.pres0_text\n",
    "y0 = df2.justice_vote\n",
    "\n",
    "X1 = df2.pres1_text\n",
    "y1 = df2.justice_vote\n",
    "\n",
    "lr_pipeline = Pipeline([('vect', TfidfVectorizer()),\n",
    "                     ('clf', LogisticRegression()),\n",
    "])\n",
    "\n",
    "lr_parameters = {'vect__ngram_range': [(1, 1),(1,2),(1,3),(1,4)],\n",
    "              'vect__stop_words': [\"english\",None],\n",
    "}\n",
    "\n",
    "lr_gs = GridSearchCV(lr_pipeline, lr_parameters, n_jobs=-1)\n",
    "\n",
    "lr0_gs = lr_gs.fit(X0,y0)\n",
    "lr0_best_parameters, lr0_score, _ = max(lr0_gs.grid_scores_, key=lambda x: x[1])\n",
    "for param_name in sorted(lr0_best_parameters.keys()):\n",
    "    print(\"%s: %r\" % (param_name, lr0_best_parameters[param_name]))\n",
    "print(\"lr0 score: \" + str(lr0_score))\n",
    "    \n",
    "lr1_gs = lr_gs.fit(X1,y1)\n",
    "lr1_best_parameters, lr1_score, _ = max(lr1_gs.grid_scores_, key=lambda x: x[1])\n",
    "for param_name in sorted(lr1_best_parameters.keys()):\n",
    "    print(\"%s: %r\" % (param_name, lr1_best_parameters[param_name]))\n",
    "print(\"lr1 score: \" + str(lr1_score))\n",
    "\n",
    "print \"Dummy score: \" + str(y0[y0==y0.mode().values[0]].size/y0.size)"
   ]
  },
  {
   "cell_type": "code",
   "execution_count": 21,
   "metadata": {
    "collapsed": false
   },
   "outputs": [
    {
     "name": "stdout",
     "output_type": "stream",
     "text": [
      "JUSTICE SCALIA: 462\n",
      "Naive Bayes score :0.625541125541\n",
      "Support Vector score :0.623376623377\n",
      "Logistic Regression score :0.623376623377\n",
      "Dummy score: 0.614718614719\n",
      "JUSTICE ROBERTS: 555\n",
      "Naive Bayes score :0.614414414414\n",
      "Support Vector score :0.625225225225\n",
      "Logistic Regression score :0.625225225225\n",
      "Dummy score: 0.636036036036\n",
      "JUSTICE BREYER: 404\n",
      "Naive Bayes score :0.574257425743\n",
      "Support Vector score :0.589108910891\n",
      "Logistic Regression score :0.589108910891\n",
      "Dummy score: 0.569306930693\n",
      "JUSTICE GINSBURG: 460\n",
      "Naive Bayes score :0.591304347826\n",
      "Support Vector score :0.59347826087\n",
      "Logistic Regression score :0.59347826087\n",
      "Dummy score: 0.567391304348\n",
      "JUSTICE KENNEDY: 393\n",
      "Naive Bayes score :0.671755725191\n",
      "Support Vector score :0.643765903308\n",
      "Logistic Regression score :0.643765903308\n",
      "Dummy score: 0.653944020356\n",
      "JUSTICE SOTOMAYOR: 246\n",
      "Naive Bayes score :0.605691056911\n",
      "Support Vector score :0.569105691057\n",
      "Logistic Regression score :0.569105691057\n",
      "Dummy score: 0.59756097561\n",
      "JUSTICE STEVENS: 207\n",
      "Naive Bayes score :0.6038647343\n",
      "Support Vector score :0.574879227053\n",
      "Logistic Regression score :0.574879227053\n",
      "Dummy score: 0.589371980676\n",
      "JUSTICE SOUTER: 161\n",
      "Naive Bayes score :0.633540372671\n",
      "Support Vector score :0.652173913043\n",
      "Logistic Regression score :0.652173913043\n",
      "Dummy score: 0.627329192547\n",
      "JUSTICE ALITO: 243\n",
      "Naive Bayes score :0.547325102881\n",
      "Support Vector score :0.543209876543\n",
      "Logistic Regression score :0.543209876543\n",
      "Dummy score: 0.551440329218\n",
      "JUSTICE KAGAN: 155\n",
      "Naive Bayes score :0.593548387097\n",
      "Support Vector score :0.6\n",
      "Logistic Regression score :0.6\n",
      "Dummy score: 0.593548387097\n",
      "JUSTICE O'CONNOR: 35\n",
      "Naive Bayes score :0.657142857143\n",
      "Support Vector score :0.685714285714\n",
      "Logistic Regression score :0.685714285714\n",
      "Dummy score: 0.685714285714\n",
      "JUSTICE REHNQUIST: 32\n",
      "Naive Bayes score :0.6875\n",
      "Support Vector score :0.6875\n",
      "Logistic Regression score :0.6875\n",
      "Dummy score: 0.59375\n"
     ]
    }
   ],
   "source": [
    "for speaker in speakers:\n",
    "    subframe = df2[df2.speaker==speaker]\n",
    "    \n",
    "    if len(subframe) < 10: continue\n",
    "    print speaker+ \": \" + str(len(subframe))\n",
    "    X = subframe.pres0_text\n",
    "    y = subframe.justice_vote\n",
    "\n",
    "    \n",
    "    ## Naive Bayes\n",
    "    nb_pipeline = Pipeline([('vect', TfidfVectorizer()),\n",
    "                         ('clf', MultinomialNB()),\n",
    "    ])\n",
    "\n",
    "    nb_parameters = {'vect__ngram_range': [(1, 1),(1,2),(1,3),(1,4)],\n",
    "                  'vect__stop_words': [\"english\",None],\n",
    "                  'clf__alpha': (1e-2, 1e-3,1e-4),\n",
    "    }\n",
    "\n",
    "    # Tried ngrams up to (1,7) and they didn't beat (1,4)\n",
    "    nb_gs = GridSearchCV(nb_pipeline, nb_parameters, n_jobs=-1)\n",
    "    nb_gs = nb_gs.fit(X,y)\n",
    "    nb_best_parameters, nb_score, _ = max(nb_gs.grid_scores_, key=lambda x: x[1])\n",
    "    \n",
    "    \n",
    "    #### Support Vector\n",
    "    sv_pipeline = Pipeline([('vect', TfidfVectorizer()),\n",
    "                         ('clf', SGDClassifier(loss='hinge', penalty='l2',\n",
    "                                               alpha=1e-3, n_iter=5, random_state=42)),\n",
    "    ])\n",
    "    \n",
    "    sv_parameters = {'vect__ngram_range': [(1, 1),(1,2),(1,3),(1,4)],\n",
    "                  'vect__stop_words': [\"english\",None],\n",
    "    }\n",
    "    \n",
    "\n",
    "    sv_gs = GridSearchCV(sv_pipeline, sv_parameters, n_jobs=-1)\n",
    "    sv_gs = sv_gs.fit(X,y)\n",
    "    sv_best_parameters, sv_score, _ = max(sv_gs.grid_scores_, key=lambda x: x[1])\n",
    "\n",
    "    \n",
    "    #### Logistic Regression\n",
    "    lr_pipeline = Pipeline([('vect', TfidfVectorizer()),\n",
    "                         ('clf', LogisticRegression()),\n",
    "    ])\n",
    "    \n",
    "    lr_parameters = {'vect__ngram_range': [(1, 1),(1,2),(1,3),(1,4)],\n",
    "                  'vect__stop_words': [\"english\",None],\n",
    "    }\n",
    "    \n",
    "\n",
    "    lr_gs = GridSearchCV(lr_pipeline, lr_parameters, n_jobs=-1)\n",
    "    lr_gs = lr_gs.fit(X,y)\n",
    "    lr_best_parameters, lr_score, _ = max(lr_gs.grid_scores_, key=lambda x: x[1])\n",
    "    \n",
    "\n",
    "    \n",
    "#     for param_name in sorted(parameters.keys()):\n",
    "#         print(\"%s: %r\" % (param_name, nb_best_parameters[param_name]))\n",
    "\n",
    "\n",
    "    print \"Naive Bayes score :\" + str(nb_score)\n",
    "    print \"Support Vector score :\" + str(sv_score)\n",
    "    print \"Logistic Regression score :\" + str(sv_score)    \n",
    "    print \"Dummy score: \" + str(y[y==y.mode().values[0]].size/y.size)\n"
   ]
  },
  {
   "cell_type": "code",
   "execution_count": 22,
   "metadata": {
    "collapsed": false
   },
   "outputs": [
    {
     "name": "stdout",
     "output_type": "stream",
     "text": [
      "JUSTICE SCALIA: 462\n",
      "Naive Bayes score :0.577922077922\n",
      "Support Vector score :0.612554112554\n",
      "Logistic Regression score :0.612554112554\n",
      "Dummy score: 0.614718614719\n",
      "JUSTICE ROBERTS: 555\n",
      "Naive Bayes score :0.637837837838\n",
      "Support Vector score :0.643243243243\n",
      "Logistic Regression score :0.643243243243\n",
      "Dummy score: 0.636036036036\n",
      "JUSTICE BREYER: 404\n",
      "Naive Bayes score :0.561881188119\n",
      "Support Vector score :0.576732673267\n",
      "Logistic Regression score :0.576732673267\n",
      "Dummy score: 0.569306930693\n",
      "JUSTICE GINSBURG: 460\n",
      "Naive Bayes score :0.571739130435\n",
      "Support Vector score :0.604347826087\n",
      "Logistic Regression score :0.604347826087\n",
      "Dummy score: 0.567391304348\n",
      "JUSTICE KENNEDY: 393\n",
      "Naive Bayes score :0.64631043257\n",
      "Support Vector score :0.656488549618\n",
      "Logistic Regression score :0.656488549618\n",
      "Dummy score: 0.653944020356\n",
      "JUSTICE SOTOMAYOR: 246\n",
      "Naive Bayes score :0.593495934959\n",
      "Support Vector score :0.565040650407\n",
      "Logistic Regression score :0.565040650407\n",
      "Dummy score: 0.59756097561\n",
      "JUSTICE STEVENS: 207\n",
      "Naive Bayes score :0.570048309179\n",
      "Support Vector score :0.545893719807\n",
      "Logistic Regression score :0.545893719807\n",
      "Dummy score: 0.589371980676\n",
      "JUSTICE SOUTER: 161\n",
      "Naive Bayes score :0.60248447205\n",
      "Support Vector score :0.590062111801\n",
      "Logistic Regression score :0.590062111801\n",
      "Dummy score: 0.627329192547\n",
      "JUSTICE ALITO: 243\n",
      "Naive Bayes score :0.654320987654\n",
      "Support Vector score :0.61316872428\n",
      "Logistic Regression score :0.61316872428\n",
      "Dummy score: 0.551440329218\n",
      "JUSTICE KAGAN: 155\n",
      "Naive Bayes score :0.567741935484\n",
      "Support Vector score :0.593548387097\n",
      "Logistic Regression score :0.593548387097\n",
      "Dummy score: 0.593548387097\n",
      "JUSTICE O'CONNOR: 35\n",
      "Naive Bayes score :0.685714285714\n",
      "Support Vector score :0.685714285714\n",
      "Logistic Regression score :0.685714285714\n",
      "Dummy score: 0.685714285714\n",
      "JUSTICE REHNQUIST: 32\n",
      "Naive Bayes score :0.65625\n",
      "Support Vector score :0.625\n",
      "Logistic Regression score :0.625\n",
      "Dummy score: 0.59375\n"
     ]
    }
   ],
   "source": [
    "for speaker in speakers:\n",
    "    subframe = df2[df2.speaker==speaker]\n",
    "    \n",
    "    if len(subframe) < 10: continue\n",
    "    print speaker+ \": \" + str(len(subframe))\n",
    "    X = subframe.pres1_text\n",
    "    y = subframe.justice_vote\n",
    "\n",
    "    \n",
    "    ## Naive Bayes\n",
    "    nb_pipeline = Pipeline([('vect', TfidfVectorizer()),\n",
    "                         ('clf', MultinomialNB()),\n",
    "    ])\n",
    "\n",
    "    nb_parameters = {'vect__ngram_range': [(1, 1),(1,2),(1,3),(1,4)],\n",
    "                  'vect__stop_words': [\"english\",None],\n",
    "                  'clf__alpha': (1e-2, 1e-3,1e-4),\n",
    "    }\n",
    "\n",
    "    # Tried ngrams up to (1,7) and they didn't beat (1,4)\n",
    "    nb_gs = GridSearchCV(nb_pipeline, nb_parameters, n_jobs=-1)\n",
    "    nb_gs = nb_gs.fit(X,y)\n",
    "    nb_best_parameters, nb_score, _ = max(nb_gs.grid_scores_, key=lambda x: x[1])\n",
    "    \n",
    "    \n",
    "    #### Support Vector\n",
    "    sv_pipeline = Pipeline([('vect', TfidfVectorizer()),\n",
    "                         ('clf', SGDClassifier(loss='hinge', penalty='l2',\n",
    "                                               alpha=1e-3, n_iter=5, random_state=42)),\n",
    "    ])\n",
    "    \n",
    "    sv_parameters = {'vect__ngram_range': [(1, 1),(1,2),(1,3),(1,4)],\n",
    "                  'vect__stop_words': [\"english\",None],\n",
    "    }\n",
    "    \n",
    "\n",
    "    sv_gs = GridSearchCV(sv_pipeline, sv_parameters, n_jobs=-1)\n",
    "    sv_gs = sv_gs.fit(X,y)\n",
    "    sv_best_parameters, sv_score, _ = max(sv_gs.grid_scores_, key=lambda x: x[1])\n",
    "\n",
    "    \n",
    "    #### Logistic Regression\n",
    "    lr_pipeline = Pipeline([('vect', TfidfVectorizer()),\n",
    "                         ('clf', LogisticRegression()),\n",
    "    ])\n",
    "    \n",
    "    lr_parameters = {'vect__ngram_range': [(1, 1),(1,2),(1,3),(1,4)],\n",
    "                  'vect__stop_words': [\"english\",None],\n",
    "    }\n",
    "    \n",
    "\n",
    "    lr_gs = GridSearchCV(lr_pipeline, lr_parameters, n_jobs=-1)\n",
    "    lr_gs = lr_gs.fit(X,y)\n",
    "    lr_best_parameters, lr_score, _ = max(lr_gs.grid_scores_, key=lambda x: x[1])\n",
    "    \n",
    "\n",
    "    \n",
    "#     for param_name in sorted(parameters.keys()):\n",
    "#         print(\"%s: %r\" % (param_name, nb_best_parameters[param_name]))\n",
    "\n",
    "\n",
    "    print \"Naive Bayes score :\" + str(nb_score)\n",
    "    print \"Support Vector score :\" + str(sv_score)\n",
    "    print \"Logistic Regression score :\" + str(sv_score)    \n",
    "    print \"Dummy score: \" + str(y[y==y.mode().values[0]].size/y.size)\n"
   ]
  },
  {
   "cell_type": "code",
   "execution_count": 23,
   "metadata": {
    "collapsed": false
   },
   "outputs": [
    {
     "data": {
      "text/plain": [
       "0.83488681757656458"
      ]
     },
     "execution_count": 23,
     "metadata": {},
     "output_type": "execute_result"
    }
   ],
   "source": [
    "categories = ['alt.atheism', 'soc.religion.christian',\n",
    "              'comp.graphics', 'sci.med']\n",
    "twenty_train = fetch_20newsgroups(subset='train',\n",
    "    categories=categories, shuffle=True, random_state=42)\n",
    "\n",
    "twenty_test = fetch_20newsgroups(subset='test',\n",
    "    categories=categories, shuffle=True, random_state=42)\n",
    "\n",
    "# count_vect = CountVectorizer()\n",
    "# X_train_counts = count_vect.fit_transform(twenty_train.data)\n",
    "# X_train_counts.shape\n",
    "\n",
    "# tf_transformer = TfidfTransformer(use_idf=False).fit(X_train_counts)\n",
    "# X_train_tf = tf_transformer.transform(X_train_counts)\n",
    "\n",
    "text_clf = Pipeline([('vect', CountVectorizer()),\n",
    "                     ('tfidf', TfidfTransformer()),\n",
    "                     ('clf', MultinomialNB()),\n",
    "])\n",
    "text_clf = text_clf.fit(twenty_train.data, twenty_train.target)\n",
    "\n",
    "docs_test = twenty_test.data\n",
    "predicted = text_clf.predict(docs_test)\n",
    "np.mean(predicted == twenty_test.target)    \n"
   ]
  },
  {
   "cell_type": "code",
   "execution_count": 4,
   "metadata": {
    "collapsed": false
   },
   "outputs": [
    {
     "name": "stderr",
     "output_type": "stream",
     "text": [
      "WARNING:root:Database file corrupt or not found, using empty database\n"
     ]
    },
    {
     "data": {
      "text/plain": [
       "'This is a string of Text'"
      ]
     },
     "execution_count": 4,
     "metadata": {},
     "output_type": "execute_result"
    }
   ],
   "source": []
  },
  {
   "cell_type": "code",
   "execution_count": null,
   "metadata": {
    "collapsed": true
   },
   "outputs": [],
   "source": []
  }
 ],
 "metadata": {
  "anaconda-cloud": {},
  "kernelspec": {
   "display_name": "Python 3",
   "language": "python",
   "name": "python3"
  },
  "language_info": {
   "codemirror_mode": {
    "name": "ipython",
    "version": 3
   },
   "file_extension": ".py",
   "mimetype": "text/x-python",
   "name": "python",
   "nbconvert_exporter": "python",
   "pygments_lexer": "ipython3",
   "version": "3.5.2"
  },
  "widgets": {
   "state": {},
   "version": "1.1.2"
  }
 },
 "nbformat": 4,
 "nbformat_minor": 0
}
